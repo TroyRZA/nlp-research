{
 "cells": [
  {
   "cell_type": "code",
   "execution_count": null,
   "id": "054dd69e",
   "metadata": {},
   "outputs": [
    {
     "ename": "",
     "evalue": "",
     "output_type": "error",
     "traceback": [
      "\u001b[1;31mRunning cells with 'Python 3.10.12' requires the ipykernel package.\n",
      "\u001b[1;31mInstall 'ipykernel' into the Python environment. \n",
      "\u001b[1;31mCommand: '/bin/python3 -m pip install ipykernel -U --user --force-reinstall'"
     ]
    }
   ],
   "source": [
    "import os\n",
    "from datasets import load_dataset\n",
    "\n",
    "def setup_project():\n",
    "    os.makedirs(\"./datasets/afrisenti\", exist_ok=True)\n",
    "    \n",
    "    print(\"Downloading Swahili (swa) dataset...\")\n",
    "    swa_dataset = load_dataset(\"masakhane/afrisenti\", \"swa\")\n",
    "    print(\"Swahili dataset downloaded!\")\n",
    "    \n",
    "    print(\"Downloading Portuguese (por) dataset...\")\n",
    "    por_dataset = load_dataset(\"masakhane/afrisenti\", \"por\")\n",
    "    print(\"Portuguese dataset downloaded!\")\n",
    "    \n",
    "    print(\"Downloading Tsonga (tso) dataset...\")\n",
    "    tso_dataset = load_dataset(\"masakhane/afrisenti\", \"tso\")\n",
    "    print(\"Tsonga dataset downloaded!\")\n",
    "    \n",
    "    print(\"Saving datasets to disk...\")\n",
    "    swa_dataset.save_to_disk(\"./datasets/afrisenti/swa\")\n",
    "    por_dataset.save_to_disk(\"./datasets/afrisenti/por\")\n",
    "    tso_dataset.save_to_disk(\"./datasets/afrisenti/tso\")\n",
    "    print(\"All datasets saved successfully to ./datasets/afrisenti/\")\n",
    "\n",
    "if __name__ == \"__main__\":\n",
    "    setup_project()"
   ]
  }
 ],
 "metadata": {
  "kernelspec": {
   "display_name": "Python 3",
   "language": "python",
   "name": "python3"
  },
  "language_info": {
   "name": "python",
   "version": "3.10.12"
  }
 },
 "nbformat": 4,
 "nbformat_minor": 5
}
